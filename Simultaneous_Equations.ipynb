{
  "nbformat": 4,
  "nbformat_minor": 0,
  "metadata": {
    "colab": {
      "provenance": []
    },
    "kernelspec": {
      "name": "python3",
      "display_name": "Python 3"
    },
    "language_info": {
      "name": "python"
    }
  },
  "cells": [
    {
      "cell_type": "code",
      "execution_count": 5,
      "metadata": {
        "colab": {
          "base_uri": "https://localhost:8080/"
        },
        "id": "6k5OmkgPf5ll",
        "outputId": "b9802849-62b0-409a-dfe6-8a7dfed5082f"
      },
      "outputs": [
        {
          "output_type": "stream",
          "name": "stdout",
          "text": [
            "These are the solutions:  {x: 66/49, y: -67/49}\n"
          ]
        }
      ],
      "source": [
        "import sympy as sp\n",
        "\n",
        "x,y=sp.symbols(\"x y\") # This is so that sympy does not take x and y as normal variables but rather values that need to be solved.\n",
        "\n",
        "e_1=sp.Eq(2*x - 9*y, 15) # This means 2x-9y=15.\n",
        "e_2=sp.Eq(-12*x + 5*y, -23) # This means -12x+5y=-23.\n",
        "\n",
        "# The equations are written like this so that they can be solved.\n",
        "\n",
        "sol=sp.solve((e_1,e_2), (x,y)) # Use this to solve the equations in respect to x and y.\n",
        "\n",
        "print(\"These are the solutions: \", sol) # This will end up printing the solutions for both the x and y values."
      ]
    }
  ]
}